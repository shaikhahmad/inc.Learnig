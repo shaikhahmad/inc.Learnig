{
  "nbformat": 4,
  "nbformat_minor": 0,
  "metadata": {
    "kernelspec": {
      "name": "python3",
      "display_name": "Python 3"
    },
    "language_info": {
      "codemirror_mode": {
        "name": "ipython",
        "version": 3
      },
      "file_extension": ".py",
      "mimetype": "text/x-python",
      "name": "python",
      "nbconvert_exporter": "python",
      "pygments_lexer": "ipython3",
      "version": "3.6.8"
    },
    "colab": {
      "name": "8d_ExpX(fmnist-svhn-mnist-cifar):inc.Classifier.ipynb",
      "provenance": [],
      "collapsed_sections": [
        "5PGwQsgK8mHv",
        "7_bi8_yRoFQ6",
        "TQs9AxxO0CLm",
        "nQP7fnPK-JBJ",
        "fGJeva9qo_OU"
      ],
      "toc_visible": true
    },
    "accelerator": "GPU"
  },
  "cells": [
    {
      "cell_type": "code",
      "metadata": {
        "id": "LUDqt84N0VxA",
        "colab_type": "code",
        "outputId": "1683133a-5f72-46be-fa19-46c47ab4931c",
        "colab": {
          "base_uri": "https://localhost:8080/",
          "height": 34
        }
      },
      "source": [
        "baseDir = '/content/drive/My Drive/Exp8d'\n",
        "!mkdir '/content/drive/My Drive/Exp8d'"
      ],
      "execution_count": 0,
      "outputs": [
        {
          "output_type": "stream",
          "text": [
            "mkdir: cannot create directory ‘/content/drive/My Drive/Exp8d’: File exists\n"
          ],
          "name": "stdout"
        }
      ]
    },
    {
      "cell_type": "code",
      "metadata": {
        "id": "9iyqDVFEtcW9",
        "colab_type": "code",
        "colab": {}
      },
      "source": [
        "import torch\n",
        "from torchvision import transforms\n",
        "from incClassifier import incClassifier\n",
        "from torchvision import datasets\n",
        "import torch.utils.data as data"
      ],
      "execution_count": 0,
      "outputs": []
    },
    {
      "cell_type": "code",
      "metadata": {
        "colab_type": "code",
        "id": "krMKSAtwf6GO",
        "colab": {}
      },
      "source": [
        "import matplotlib.pyplot as plt\n",
        "import numpy as np\n",
        "\n",
        "def imshow(inp, title=None):\n",
        "    \"\"\"Imshow for Tensor.\"\"\"\n",
        "    inp = inp.numpy().transpose((1, 2, 0))\n",
        "    mean = np.array([0.485, 0.456, 0.406])\n",
        "    std = np.array([0.229, 0.224, 0.225])\n",
        "    inp = std * inp + mean\n",
        "    inp = np.clip(inp, 0, 1)\n",
        "    plt.imshow(inp)\n",
        "    if title is not None:\n",
        "        plt.title(title)\n",
        "    plt.pause(0.001)  # pause a bit so that plots are updated\n",
        "    \n",
        "def visualize_model(model, dataloader, num_images=6):\n",
        "    images_so_far = 0\n",
        "    fig = plt.figure()\n",
        "\n",
        "    with torch.no_grad():\n",
        "        for i, (inputs, labels) in enumerate(dataloader):\n",
        "            if mymodel.useCuda:\n",
        "              inputs = inputs.cuda()\n",
        "              # labels = labels.cuda()\n",
        "\n",
        "            preds, tasks, classes =  mymodel.predict(inputs)\n",
        "\n",
        "            for j in range(inputs.size()[0]):\n",
        "                images_so_far += 1\n",
        "                ax = plt.subplot(num_images//2, 2, images_so_far)\n",
        "                ax.axis('off')\n",
        "                ax.set_title('predicted: {}'.format(classes[j]))\n",
        "                # ax.set_title('predicted: {}'.format(preds[j]))\n",
        "                imshow(inputs.cpu().data[j])\n",
        "\n",
        "                if images_so_far == num_images:\n",
        "                    # model.train(mode=was_training)\n",
        "                    return"
      ],
      "execution_count": 0,
      "outputs": []
    },
    {
      "cell_type": "code",
      "metadata": {
        "id": "_qV9Ia2ctcXK",
        "colab_type": "code",
        "colab": {}
      },
      "source": [
        "mymodel = incClassifier(True)\n",
        "# mymodel.mainNet.cuda()"
      ],
      "execution_count": 0,
      "outputs": []
    },
    {
      "cell_type": "code",
      "metadata": {
        "id": "sZ40Lq1UtcXU",
        "colab_type": "code",
        "colab": {}
      },
      "source": [
        "normal_transforms = {\n",
        "    'train': transforms.Compose([\n",
        "        transforms.Resize(35),\n",
        "        transforms.RandomCrop(32),\n",
        "        transforms.RandomHorizontalFlip(),\n",
        "        transforms.ToTensor(),\n",
        "        transforms.Normalize((0.5, 0.5, 0.5), (0.5, 0.5, 0.5))\n",
        "    ]),\n",
        "    'val': transforms.Compose([\n",
        "        transforms.Resize(35),\n",
        "        transforms.CenterCrop(32),\n",
        "        transforms.ToTensor(),\n",
        "        transforms.Normalize((0.5, 0.5, 0.5), (0.5, 0.5, 0.5))\n",
        "    ]),\n",
        "}\n",
        "\n",
        "gray_transforms = {\n",
        "    'train': transforms.Compose([\n",
        "        transforms.Grayscale(num_output_channels=3),\n",
        "        transforms.Resize(35),\n",
        "        transforms.RandomCrop(32),\n",
        "        transforms.RandomHorizontalFlip(),\n",
        "        transforms.ToTensor(),\n",
        "        transforms.Normalize((0.1307, 0.1307, 0.1307), (0.1307, 0.1307, 0.1307))\n",
        "    ]),\n",
        "    'val': transforms.Compose([\n",
        "        transforms.Grayscale(num_output_channels=3),\n",
        "        transforms.Resize(35),\n",
        "        transforms.CenterCrop(32),\n",
        "        transforms.ToTensor(),\n",
        "        transforms.Normalize((0.1307, 0.1307, 0.1307), (0.1307, 0.1307, 0.1307))\n",
        "    ]),\n",
        "}\n",
        "\n",
        "scenes_path ='/home/ahmad/DataSet/scenes'\n",
        "batch_size = 100\n"
      ],
      "execution_count": 0,
      "outputs": []
    },
    {
      "cell_type": "markdown",
      "metadata": {
        "id": "5PGwQsgK8mHv",
        "colab_type": "text"
      },
      "source": [
        "## MNIST FAssion"
      ]
    },
    {
      "cell_type": "code",
      "metadata": {
        "id": "LYAwf5N-2sux",
        "colab_type": "code",
        "outputId": "52d869f4-da02-45e5-df56-6b28a302cefc",
        "colab": {
          "base_uri": "https://localhost:8080/",
          "height": 280
        }
      },
      "source": [
        "fmnist = {x: datasets.FashionMNIST(root='/FashionMNIST', train=True if x == 'train' else False,\n",
        "                                        download=True, transform=gray_transforms[x])\n",
        "         for x in ['train', 'val']}\n",
        "fmnist_loaders = {x: torch.utils.data.DataLoader(fmnist[x], batch_size=batch_size,\n",
        "                                               shuffle=True, num_workers=4)\n",
        "                for x in ['train', 'val']}\n",
        "fmnist_izes = {x: len(fmnist[x]) for x in ['train', 'val']}\n",
        "fmnist_classes = ['T-Shirt','Trouser','Pullover','Dress','Coat','Sandal','Shirt','Sneaker','Bag','Ankle Boot']"
      ],
      "execution_count": 0,
      "outputs": [
        {
          "output_type": "stream",
          "text": [
            "\r0it [00:00, ?it/s]"
          ],
          "name": "stderr"
        },
        {
          "output_type": "stream",
          "text": [
            "Downloading http://fashion-mnist.s3-website.eu-central-1.amazonaws.com/train-images-idx3-ubyte.gz to /FashionMNIST/FashionMNIST/raw/train-images-idx3-ubyte.gz\n"
          ],
          "name": "stdout"
        },
        {
          "output_type": "stream",
          "text": [
            "26427392it [00:04, 6044173.89it/s]                              \n"
          ],
          "name": "stderr"
        },
        {
          "output_type": "stream",
          "text": [
            "Extracting /FashionMNIST/FashionMNIST/raw/train-images-idx3-ubyte.gz to /FashionMNIST/FashionMNIST/raw\n"
          ],
          "name": "stdout"
        },
        {
          "output_type": "stream",
          "text": [
            "\r0it [00:00, ?it/s]"
          ],
          "name": "stderr"
        },
        {
          "output_type": "stream",
          "text": [
            "Downloading http://fashion-mnist.s3-website.eu-central-1.amazonaws.com/train-labels-idx1-ubyte.gz to /FashionMNIST/FashionMNIST/raw/train-labels-idx1-ubyte.gz\n"
          ],
          "name": "stdout"
        },
        {
          "output_type": "stream",
          "text": [
            "32768it [00:00, 39939.89it/s]                           \n",
            "0it [00:00, ?it/s]"
          ],
          "name": "stderr"
        },
        {
          "output_type": "stream",
          "text": [
            "Extracting /FashionMNIST/FashionMNIST/raw/train-labels-idx1-ubyte.gz to /FashionMNIST/FashionMNIST/raw\n",
            "Downloading http://fashion-mnist.s3-website.eu-central-1.amazonaws.com/t10k-images-idx3-ubyte.gz to /FashionMNIST/FashionMNIST/raw/t10k-images-idx3-ubyte.gz\n"
          ],
          "name": "stdout"
        },
        {
          "output_type": "stream",
          "text": [
            "4423680it [00:02, 1667642.19it/s]                             \n",
            "0it [00:00, ?it/s]"
          ],
          "name": "stderr"
        },
        {
          "output_type": "stream",
          "text": [
            "Extracting /FashionMNIST/FashionMNIST/raw/t10k-images-idx3-ubyte.gz to /FashionMNIST/FashionMNIST/raw\n",
            "Downloading http://fashion-mnist.s3-website.eu-central-1.amazonaws.com/t10k-labels-idx1-ubyte.gz to /FashionMNIST/FashionMNIST/raw/t10k-labels-idx1-ubyte.gz\n"
          ],
          "name": "stdout"
        },
        {
          "output_type": "stream",
          "text": [
            "8192it [00:00, 15405.02it/s]            "
          ],
          "name": "stderr"
        },
        {
          "output_type": "stream",
          "text": [
            "Extracting /FashionMNIST/FashionMNIST/raw/t10k-labels-idx1-ubyte.gz to /FashionMNIST/FashionMNIST/raw\n",
            "Processing...\n",
            "Done!\n"
          ],
          "name": "stdout"
        },
        {
          "output_type": "stream",
          "text": [
            "\n"
          ],
          "name": "stderr"
        }
      ]
    },
    {
      "cell_type": "code",
      "metadata": {
        "id": "qRMbpuBX-_WD",
        "colab_type": "code",
        "colab": {}
      },
      "source": [
        "!mkdir '/content/drive/My Drive/Exp8d/checkpointFashionMNIST'\n",
        "check_dir =  '/content/drive/My Drive/Exp8d/checkpointFashionMNIST'\n",
        "mymodel.trainNewTask(fmnist, fmnist_loaders, fmnist_classes, check_dir)"
      ],
      "execution_count": 0,
      "outputs": []
    },
    {
      "cell_type": "code",
      "metadata": {
        "id": "5MVP_Axz-2GY",
        "colab_type": "code",
        "colab": {}
      },
      "source": [
        "torch.save(mymodel, '/content/drive/My Drive/Exp8d/mymodel.pt')\n",
        "mymodel = torch.load('/content/drive/My Drive/Exp8d/mymodel.pt')"
      ],
      "execution_count": 0,
      "outputs": []
    },
    {
      "cell_type": "markdown",
      "metadata": {
        "colab_type": "text",
        "id": "7_bi8_yRoFQ6"
      },
      "source": [
        "## SVHN"
      ]
    },
    {
      "cell_type": "code",
      "metadata": {
        "colab_type": "code",
        "id": "c9Lx9aOFoFRF",
        "outputId": "9f3de034-7937-4833-de36-409547c22e37",
        "colab": {
          "base_uri": "https://localhost:8080/",
          "height": 905
        }
      },
      "source": [
        "svhn = {x: datasets.SVHN(root='/SVHN', split=x if x == 'train' else 'test',\n",
        "                                        download=True, transform=gray_transforms[x])\n",
        "         for x in ['train', 'val']}\n",
        "svhn_loaders = {x: torch.utils.data.DataLoader(svhn[x], batch_size=batch_size,\n",
        "                                               shuffle=True, num_workers=4)\n",
        "                for x in ['train', 'val']}\n",
        "dset_sizes = {x: len(svhn[x]) for x in ['train', 'val']}\n",
        "svhn_classes = [str(x) for x in range(10)]"
      ],
      "execution_count": 0,
      "outputs": [
        {
          "output_type": "stream",
          "text": [
            "\r0it [00:00, ?it/s]"
          ],
          "name": "stderr"
        },
        {
          "output_type": "stream",
          "text": [
            "Downloading http://ufldl.stanford.edu/housenumbers/train_32x32.mat to /SVHN/train_32x32.mat\n"
          ],
          "name": "stdout"
        },
        {
          "output_type": "stream",
          "text": [
            " 99%|█████████▉| 180895744/182040794 [00:11<00:00, 21001645.25it/s]\n",
            "0it [00:00, ?it/s]\u001b[A"
          ],
          "name": "stderr"
        },
        {
          "output_type": "stream",
          "text": [
            "Downloading http://ufldl.stanford.edu/housenumbers/test_32x32.mat to /SVHN/test_32x32.mat\n"
          ],
          "name": "stdout"
        },
        {
          "output_type": "stream",
          "text": [
            "\n",
            "  0%|          | 0/64275384 [00:00<?, ?it/s]\u001b[A\n",
            "  0%|          | 16384/64275384 [00:00<08:46, 121963.49it/s]\u001b[A\n",
            "  0%|          | 32768/64275384 [00:00<08:46, 121920.26it/s]\u001b[A\n",
            "  0%|          | 57344/64275384 [00:00<07:54, 135426.74it/s]\u001b[A\n",
            "  0%|          | 90112/64275384 [00:00<06:50, 156187.95it/s]\u001b[A\n",
            "  0%|          | 139264/64275384 [00:00<05:40, 188535.63it/s]\u001b[A\n",
            "  0%|          | 196608/64275384 [00:01<04:43, 226382.31it/s]\u001b[A\n",
            "  0%|          | 270336/64275384 [00:01<03:53, 274650.85it/s]\u001b[A\n",
            "  1%|          | 352256/64275384 [00:01<03:14, 328699.07it/s]\u001b[A\n",
            "  1%|          | 442368/64275384 [00:01<02:44, 387887.74it/s]\u001b[A\n",
            "  1%|          | 540672/64275384 [00:01<02:21, 451360.14it/s]\u001b[A\n",
            "  1%|          | 663552/64275384 [00:01<01:59, 532003.92it/s]\u001b[A\n",
            "  1%|▏         | 811008/64275384 [00:01<01:40, 628812.28it/s]\u001b[A\n",
            "  2%|▏         | 974848/64275384 [00:02<01:26, 735476.56it/s]\u001b[A\n",
            "  2%|▏         | 1179648/64275384 [00:02<01:12, 870328.78it/s]\u001b[A\n",
            "  2%|▏         | 1409024/64275384 [00:02<01:01, 1019939.83it/s]\u001b[A\n",
            "  3%|▎         | 1687552/64275384 [00:02<00:52, 1202781.95it/s]\u001b[A\n",
            "  3%|▎         | 2023424/64275384 [00:02<00:43, 1423939.56it/s]\u001b[A\n",
            "  4%|▍         | 2433024/64275384 [00:02<00:36, 1694394.03it/s]\u001b[A\n",
            "  5%|▍         | 2916352/64275384 [00:02<00:30, 2012778.06it/s]\u001b[A\n",
            "  5%|▌         | 3489792/64275384 [00:02<00:25, 2390715.55it/s]\u001b[A\n",
            "  6%|▋         | 4120576/64275384 [00:03<00:21, 2802684.84it/s]\u001b[A\n",
            "  8%|▊         | 4866048/64275384 [00:03<00:18, 3289616.52it/s]\u001b[A\n",
            "  9%|▉         | 5709824/64275384 [00:03<00:15, 3835929.90it/s]\u001b[A\n",
            " 11%|█         | 6766592/64275384 [00:03<00:12, 4519896.35it/s]\u001b[A\n",
            " 13%|█▎        | 8036352/64275384 [00:03<00:10, 5369067.59it/s]\u001b[A\n",
            " 15%|█▍        | 9519104/64275384 [00:03<00:08, 6344298.59it/s]\u001b[A\n",
            " 18%|█▊        | 11337728/64275384 [00:03<00:07, 7545171.17it/s]\u001b[A\n",
            " 21%|██        | 13484032/64275384 [00:04<00:05, 8960822.92it/s]\u001b[A\n",
            " 25%|██▍       | 15958016/64275384 [00:04<00:04, 10587503.53it/s]\u001b[A\n",
            " 29%|██▉       | 18685952/64275384 [00:04<00:03, 12318634.23it/s]\u001b[A\n",
            " 34%|███▎      | 21643264/64275384 [00:04<00:03, 14181638.52it/s]\u001b[A\n",
            " 38%|███▊      | 24625152/64275384 [00:04<00:02, 15895443.41it/s]\u001b[A\n",
            " 43%|████▎     | 27762688/64275384 [00:04<00:02, 17573758.73it/s]\u001b[A\n",
            " 48%|████▊     | 30883840/64275384 [00:04<00:01, 18943536.39it/s]\u001b[A\n",
            " 53%|█████▎    | 34004992/64275384 [00:04<00:01, 20040768.12it/s]\u001b[A\n",
            " 57%|█████▋    | 36896768/64275384 [00:05<00:01, 19928202.78it/s]\u001b[A\n",
            " 62%|██████▏   | 40026112/64275384 [00:05<00:01, 20812118.01it/s]\u001b[A\n",
            " 67%|██████▋   | 43163648/64275384 [00:05<00:00, 21503405.83it/s]\u001b[A\n",
            " 72%|███████▏  | 46137344/64275384 [00:05<00:00, 20960445.01it/s]\u001b[A\n",
            " 76%|███████▋  | 49037312/64275384 [00:05<00:00, 21024911.60it/s]\u001b[A\n",
            " 81%|████████  | 52043776/64275384 [00:05<00:00, 21101824.53it/s]\u001b[A\n",
            " 86%|████████▌ | 54968320/64275384 [00:05<00:00, 20963137.85it/s]\u001b[A\n",
            " 90%|█████████ | 58105856/64275384 [00:06<00:00, 21278308.08it/s]\u001b[A\n",
            " 95%|█████████▌| 61235200/64275384 [00:06<00:00, 21833329.99it/s]\u001b[A\n",
            "64282624it [00:06, 10229691.81it/s]                              \u001b[A"
          ],
          "name": "stderr"
        }
      ]
    },
    {
      "cell_type": "code",
      "metadata": {
        "colab_type": "code",
        "id": "LvJQeRLmoFRq",
        "colab": {}
      },
      "source": [
        "!mkdir '/content/drive/My Drive/Exp8d/checkpointSVHN'\n",
        "check_dir =  '/content/drive/My Drive/Exp8d/checkpointSVHN'\n",
        "mymodel.trainNewTask(svhn, svhn_loaders, svhn_classes, check_dir)"
      ],
      "execution_count": 0,
      "outputs": []
    },
    {
      "cell_type": "code",
      "metadata": {
        "colab_type": "code",
        "id": "SGf4ySQ1oFRx",
        "colab": {}
      },
      "source": [
        "torch.save(mymodel, '/content/drive/My Drive/Exp8d/mymodel.pt')\n",
        "mymodel = torch.load('/content/drive/My Drive/Exp8d/mymodel.pt')"
      ],
      "execution_count": 0,
      "outputs": []
    },
    {
      "cell_type": "markdown",
      "metadata": {
        "id": "TQs9AxxO0CLm",
        "colab_type": "text"
      },
      "source": [
        "## MNIST"
      ]
    },
    {
      "cell_type": "code",
      "metadata": {
        "id": "LbT1c9Is0iJP",
        "colab_type": "code",
        "outputId": "c80a8d35-d4d7-4dc6-b771-7fedc7bad463",
        "colab": {
          "base_uri": "https://localhost:8080/",
          "height": 766
        }
      },
      "source": [
        "mnist = {x: datasets.MNIST(root='/MNIST', train=True if x == 'train' else False,\n",
        "                                        download=True, transform=gray_transforms[x])\n",
        "         for x in ['train', 'val']}\n",
        "mnist_loaders = {x: torch.utils.data.DataLoader(mnist[x], batch_size=batch_size,\n",
        "                                               shuffle=True, num_workers=4)\n",
        "                for x in ['train', 'val']}\n",
        "mnist_sizes = {x: len(mnist[x]) for x in ['train', 'val']}\n",
        "mnist_classes = ['zero', 'one', 'two', 'three', 'four', 'five', 'six', 'seven', 'eight', 'nine']"
      ],
      "execution_count": 0,
      "outputs": [
        {
          "output_type": "stream",
          "text": [
            "\n",
            "0it [00:00, ?it/s]\u001b[A"
          ],
          "name": "stderr"
        },
        {
          "output_type": "stream",
          "text": [
            "Downloading http://yann.lecun.com/exdb/mnist/train-images-idx3-ubyte.gz to /MNIST/MNIST/raw/train-images-idx3-ubyte.gz\n"
          ],
          "name": "stdout"
        },
        {
          "output_type": "stream",
          "text": [
            "\n",
            "  0%|          | 0/9912422 [00:00<?, ?it/s]\u001b[A\n",
            "  0%|          | 16384/9912422 [00:00<02:11, 75462.84it/s]\u001b[A\n",
            "  0%|          | 40960/9912422 [00:00<01:54, 86497.32it/s]\u001b[A\n",
            "  1%|          | 98304/9912422 [00:00<01:29, 110127.52it/s]\u001b[A\n",
            "  2%|▏         | 212992/9912422 [00:01<01:06, 146105.31it/s]\u001b[A\n",
            "  4%|▍         | 425984/9912422 [00:01<00:47, 197963.69it/s]\u001b[A\n",
            "  6%|▌         | 614400/9912422 [00:01<00:35, 261027.57it/s]\u001b[A\n",
            " 10%|█         | 999424/9912422 [00:01<00:25, 353912.12it/s]\u001b[A\n",
            " 20%|█▉        | 1966080/9912422 [00:01<00:16, 491322.41it/s]\u001b[A\n",
            " 36%|███▋      | 3604480/9912422 [00:02<00:09, 685591.38it/s]\u001b[A\n",
            " 68%|██████▊   | 6750208/9912422 [00:02<00:03, 962767.36it/s]\u001b[A\n",
            "100%|█████████▉| 9887744/9912422 [00:02<00:00, 1342723.43it/s]\u001b[A\n",
            "9920512it [00:02, 4010328.36it/s]                             \u001b[A"
          ],
          "name": "stderr"
        },
        {
          "output_type": "stream",
          "text": [
            "Extracting /MNIST/MNIST/raw/train-images-idx3-ubyte.gz to /MNIST/MNIST/raw\n"
          ],
          "name": "stdout"
        },
        {
          "output_type": "stream",
          "text": [
            "\n",
            "0it [00:00, ?it/s]\u001b[A"
          ],
          "name": "stderr"
        },
        {
          "output_type": "stream",
          "text": [
            "Downloading http://yann.lecun.com/exdb/mnist/train-labels-idx1-ubyte.gz to /MNIST/MNIST/raw/train-labels-idx1-ubyte.gz\n"
          ],
          "name": "stdout"
        },
        {
          "output_type": "stream",
          "text": [
            "\n",
            "  0%|          | 0/28881 [00:00<?, ?it/s]\u001b[A\n",
            " 57%|█████▋    | 16384/28881 [00:00<00:00, 85745.54it/s]\u001b[A\n",
            "32768it [00:00, 56739.29it/s]                           \u001b[A\n",
            "0it [00:00, ?it/s]\u001b[A"
          ],
          "name": "stderr"
        },
        {
          "output_type": "stream",
          "text": [
            "Extracting /MNIST/MNIST/raw/train-labels-idx1-ubyte.gz to /MNIST/MNIST/raw\n",
            "Downloading http://yann.lecun.com/exdb/mnist/t10k-images-idx3-ubyte.gz to /MNIST/MNIST/raw/t10k-images-idx3-ubyte.gz\n"
          ],
          "name": "stdout"
        },
        {
          "output_type": "stream",
          "text": [
            "\n",
            "  0%|          | 0/1648877 [00:00<?, ?it/s]\u001b[A\n",
            "  1%|          | 16384/1648877 [00:00<00:21, 77178.12it/s]\u001b[A\n",
            "  2%|▏         | 40960/1648877 [00:00<00:18, 88588.80it/s]\u001b[A\n",
            "  6%|▌         | 98304/1648877 [00:00<00:13, 112833.09it/s]\u001b[A\n",
            " 13%|█▎        | 212992/1648877 [00:01<00:09, 149609.84it/s]\u001b[A\n",
            " 19%|█▉        | 319488/1648877 [00:01<00:06, 192660.29it/s]\u001b[A\n",
            " 32%|███▏      | 532480/1648877 [00:01<00:04, 257447.80it/s]\u001b[A\n",
            " 54%|█████▍    | 892928/1648877 [00:01<00:02, 348522.82it/s]\u001b[A\n",
            " 97%|█████████▋| 1597440/1648877 [00:01<00:00, 479696.35it/s]\u001b[A\n",
            "1654784it [00:01, 884739.38it/s]                             \u001b[A\n",
            "0it [00:00, ?it/s]\u001b[A"
          ],
          "name": "stderr"
        },
        {
          "output_type": "stream",
          "text": [
            "Extracting /MNIST/MNIST/raw/t10k-images-idx3-ubyte.gz to /MNIST/MNIST/raw\n",
            "Downloading http://yann.lecun.com/exdb/mnist/t10k-labels-idx1-ubyte.gz to /MNIST/MNIST/raw/t10k-labels-idx1-ubyte.gz\n"
          ],
          "name": "stdout"
        },
        {
          "output_type": "stream",
          "text": [
            "\n",
            "  0%|          | 0/4542 [00:00<?, ?it/s]\u001b[A\n",
            "8192it [00:00, 21735.02it/s]            \u001b[A"
          ],
          "name": "stderr"
        },
        {
          "output_type": "stream",
          "text": [
            "Extracting /MNIST/MNIST/raw/t10k-labels-idx1-ubyte.gz to /MNIST/MNIST/raw\n",
            "Processing...\n",
            "Done!\n"
          ],
          "name": "stdout"
        }
      ]
    },
    {
      "cell_type": "code",
      "metadata": {
        "id": "j4oNJgri2dV9",
        "colab_type": "code",
        "colab": {}
      },
      "source": [
        "!mkdir '/content/drive/My Drive/Exp8d/checkpointMNIST'\n",
        "check_dir =  '/content/drive/My Drive/Exp8d/checkpointMNIST'\n",
        "mymodel.trainNewTask(mnist, mnist_loaders, mnist_classes, check_dir)"
      ],
      "execution_count": 0,
      "outputs": []
    },
    {
      "cell_type": "code",
      "metadata": {
        "id": "bfc4gPDt2qOp",
        "colab_type": "code",
        "colab": {}
      },
      "source": [
        "torch.save(mymodel, '/content/drive/My Drive/Exp8d/mymodel.pt')\n",
        "mymodel = torch.load('/content/drive/My Drive/Exp8d/mymodel.pt')"
      ],
      "execution_count": 0,
      "outputs": []
    },
    {
      "cell_type": "markdown",
      "metadata": {
        "id": "nQP7fnPK-JBJ",
        "colab_type": "text"
      },
      "source": [
        "## CIFAR"
      ]
    },
    {
      "cell_type": "code",
      "metadata": {
        "id": "j2ZuohSstcXh",
        "colab_type": "code",
        "outputId": "f3058d85-d6d0-448e-ef1e-6a638372072e",
        "colab": {
          "base_uri": "https://localhost:8080/",
          "height": 1000
        }
      },
      "source": [
        "cifar = {x: datasets.CIFAR10(root='/CIFAR10', train=True if x == 'train' else False,\n",
        "                                        download=True, transform=normal_transforms[x])\n",
        "         for x in ['train', 'val']}\n",
        "cifar_loaders = {x: torch.utils.data.DataLoader(cifar[x], batch_size=batch_size,\n",
        "                                               shuffle=True, num_workers=4)\n",
        "                for x in ['train', 'val']}\n",
        "cifar_sizes = {x: len(cifar[x]) for x in ['train', 'val']}\n",
        "cifar_classes = ['plane', 'car', 'bird', 'cat', 'deer', 'dog', 'frog', 'horse', 'ship', 'truck']"
      ],
      "execution_count": 0,
      "outputs": [
        {
          "output_type": "stream",
          "text": [
            "\n",
            "0it [00:00, ?it/s]\u001b[A"
          ],
          "name": "stderr"
        },
        {
          "output_type": "stream",
          "text": [
            "Downloading https://www.cs.toronto.edu/~kriz/cifar-10-python.tar.gz to /CIFAR10/cifar-10-python.tar.gz\n"
          ],
          "name": "stdout"
        },
        {
          "output_type": "stream",
          "text": [
            "\n",
            "  0%|          | 0/170498071 [00:01<?, ?it/s]\u001b[A\n",
            "  0%|          | 8192/170498071 [00:01<1:01:23, 46281.66it/s]\u001b[A\n",
            "  0%|          | 40960/170498071 [00:01<47:35, 59703.71it/s] \u001b[A\n",
            "  0%|          | 106496/170498071 [00:01<35:36, 79767.41it/s]\u001b[A\n",
            "  0%|          | 221184/170498071 [00:01<26:13, 108231.02it/s]\u001b[A\n",
            "  0%|          | 434176/170498071 [00:01<19:02, 148869.77it/s]\u001b[A\n",
            "  1%|          | 860160/170498071 [00:02<13:38, 207162.83it/s]\u001b[A\n",
            "  1%|          | 1712128/170498071 [00:02<09:40, 290576.32it/s]\u001b[A\n",
            "  2%|▏         | 3366912/170498071 [00:02<06:48, 409529.72it/s]\u001b[A\n",
            "  4%|▍         | 6496256/170498071 [00:02<04:43, 579397.94it/s]\u001b[A\n",
            "  6%|▌         | 9625600/170498071 [00:02<03:17, 816232.61it/s]\u001b[A\n",
            "  7%|▋         | 12771328/170498071 [00:03<02:18, 1142308.34it/s]\u001b[A\n",
            "  9%|▉         | 15900672/170498071 [00:03<01:37, 1588744.48it/s]\u001b[A\n",
            "182042624it [00:30, 21001645.25it/s]                               \n",
            " 13%|█▎        | 21815296/170498071 [00:03<00:50, 2945204.61it/s]\u001b[A\n",
            " 15%|█▍        | 24961024/170498071 [00:03<00:37, 3922492.34it/s]\u001b[A\n",
            " 16%|█▋        | 28090368/170498071 [00:03<00:27, 5114351.01it/s]\u001b[A\n",
            " 18%|█▊        | 31236096/170498071 [00:04<00:21, 6492923.53it/s]\u001b[A\n",
            " 20%|█▉        | 34021376/170498071 [00:04<00:17, 7858353.11it/s]\u001b[A\n",
            " 22%|██▏       | 37150720/170498071 [00:04<00:14, 9426861.51it/s]\u001b[A\n",
            " 24%|██▎       | 40280064/170498071 [00:04<00:11, 10959088.21it/s]\u001b[A\n",
            " 25%|██▌       | 43425792/170498071 [00:04<00:10, 12299568.49it/s]\u001b[A\n",
            " 27%|██▋       | 46211072/170498071 [00:05<00:09, 13086963.71it/s]\u001b[A\n",
            " 29%|██▉       | 49324032/170498071 [00:05<00:08, 14166750.86it/s]\u001b[A\n",
            " 31%|███       | 52469760/170498071 [00:05<00:07, 14923340.70it/s]\u001b[A\n",
            " 32%|███▏      | 55320576/170498071 [00:05<00:07, 15189137.65it/s]\u001b[A\n",
            " 34%|███▍      | 58449920/170498071 [00:05<00:07, 15741192.07it/s]\u001b[A\n",
            " 36%|███▌      | 61579264/170498071 [00:05<00:06, 16390081.46it/s]\u001b[A\n",
            " 38%|███▊      | 64380928/170498071 [00:06<00:06, 15975607.30it/s]\u001b[A\n",
            " 40%|███▉      | 67510272/170498071 [00:06<00:06, 16466290.13it/s]\u001b[A\n",
            " 41%|████▏     | 70639616/170498071 [00:06<00:05, 16804898.67it/s]\u001b[A\n",
            " 43%|████▎     | 73785344/170498071 [00:06<00:05, 16912303.36it/s]\u001b[A\n",
            " 45%|████▍     | 76603392/170498071 [00:06<00:05, 16403422.54it/s]\u001b[A\n",
            " 47%|████▋     | 79716352/170498071 [00:06<00:05, 16736771.60it/s]\u001b[A\n",
            " 49%|████▊     | 82862080/170498071 [00:07<00:05, 17023002.91it/s]\u001b[A\n",
            " 50%|█████     | 85991424/170498071 [00:07<00:04, 17206928.20it/s]\u001b[A\n",
            " 52%|█████▏    | 89120768/170498071 [00:07<00:04, 17337371.67it/s]\u001b[A\n",
            " 54%|█████▍    | 91938816/170498071 [00:07<00:04, 16599281.02it/s]\u001b[A\n",
            " 56%|█████▌    | 95068160/170498071 [00:07<00:04, 16900723.17it/s]\u001b[A\n",
            " 58%|█████▊    | 98197504/170498071 [00:08<00:04, 17118947.03it/s]\u001b[A\n",
            " 59%|█████▉    | 101343232/170498071 [00:08<00:04, 17058141.42it/s]\u001b[A\n",
            " 61%|██████▏   | 104472576/170498071 [00:08<00:03, 17478161.00it/s]\u001b[A\n",
            " 63%|██████▎   | 107601920/170498071 [00:08<00:03, 17532506.36it/s]\u001b[A\n",
            " 65%|██████▍   | 110469120/170498071 [00:08<00:03, 16663501.42it/s]\u001b[A\n",
            " 67%|██████▋   | 113598464/170498071 [00:08<00:03, 16896974.11it/s]\u001b[A\n",
            " 68%|██████▊   | 116727808/170498071 [00:09<00:03, 17177353.07it/s]\u001b[A\n",
            " 70%|███████   | 119857152/170498071 [00:09<00:02, 17313102.19it/s]\u001b[A\n",
            " 72%|███████▏  | 122970112/170498071 [00:09<00:02, 17385493.99it/s]\u001b[A\n",
            " 74%|███████▍  | 126099456/170498071 [00:09<00:02, 17278337.20it/s]\u001b[A\n",
            " 76%|███████▌  | 129245184/170498071 [00:09<00:02, 17304961.62it/s]\u001b[A\n",
            " 77%|███████▋  | 132063232/170498071 [00:10<00:02, 16679671.61it/s]\u001b[A\n",
            " 79%|███████▉  | 135176192/170498071 [00:10<00:02, 16936336.75it/s]\u001b[A\n",
            " 81%|████████  | 138321920/170498071 [00:10<00:01, 17036003.59it/s]\u001b[A\n",
            " 83%|████████▎ | 141451264/170498071 [00:10<00:01, 17345251.21it/s]\u001b[A\n",
            " 85%|████████▍ | 144580608/170498071 [00:10<00:01, 17438663.65it/s]\u001b[A\n",
            " 86%|████████▋ | 147398656/170498071 [00:10<00:01, 16648737.52it/s]\u001b[A\n",
            " 88%|████████▊ | 150528000/170498071 [00:11<00:01, 16861400.44it/s]\u001b[A\n",
            " 90%|█████████ | 153657344/170498071 [00:11<00:00, 17177130.63it/s]\u001b[A\n",
            " 92%|█████████▏| 156803072/170498071 [00:11<00:00, 17061381.23it/s]\u001b[A\n",
            " 94%|█████████▍| 159932416/170498071 [00:11<00:00, 17233550.76it/s]\u001b[A\n",
            " 95%|█████████▌| 162684928/170498071 [00:11<00:00, 15792771.94it/s]\u001b[A\n",
            " 97%|█████████▋| 165732352/170498071 [00:12<00:00, 15959352.79it/s]\u001b[A\n",
            " 99%|█████████▉| 168845312/170498071 [00:12<00:00, 16405583.30it/s]\u001b[A"
          ],
          "name": "stderr"
        },
        {
          "output_type": "stream",
          "text": [
            "Extracting /CIFAR10/cifar-10-python.tar.gz to /CIFAR10\n",
            "Files already downloaded and verified\n"
          ],
          "name": "stdout"
        }
      ]
    },
    {
      "cell_type": "code",
      "metadata": {
        "scrolled": false,
        "id": "b8XENvv5tcXo",
        "colab_type": "code",
        "colab": {}
      },
      "source": [
        "!mkdir '/content/drive/My Drive/Exp8d/cifar_checkpoint'\n",
        "check_dir =  '/content/drive/My Drive/Exp8d/cifar_checkpoint'\n",
        "mymodel.trainNewTask(cifar, cifar_loaders, cifar_classes, check_dir)"
      ],
      "execution_count": 0,
      "outputs": []
    },
    {
      "cell_type": "code",
      "metadata": {
        "id": "PIHG6FlCtcXt",
        "colab_type": "code",
        "outputId": "a20518de-644e-4878-a15c-c4545d401416",
        "colab": {
          "base_uri": "https://localhost:8080/",
          "height": 52
        }
      },
      "source": [
        "torch.save(mymodel, '/content/drive/My Drive/Exp8d/mymodel.pt')\n",
        "mymodel = torch.load('/content/drive/My Drive/Exp8d/mymodel.pt')"
      ],
      "execution_count": 0,
      "outputs": [
        {
          "output_type": "stream",
          "text": [
            "\n",
            "170500096it [00:25, 16405583.30it/s]                               \u001b[A"
          ],
          "name": "stderr"
        }
      ]
    },
    {
      "cell_type": "markdown",
      "metadata": {
        "id": "fGJeva9qo_OU",
        "colab_type": "text"
      },
      "source": [
        "##Testing"
      ]
    },
    {
      "cell_type": "code",
      "metadata": {
        "id": "KRzrCsUh_VLE",
        "colab_type": "code",
        "outputId": "26cd9923-ee2d-4a58-ab8f-4221350c0e96",
        "colab": {
          "base_uri": "https://localhost:8080/",
          "height": 34
        }
      },
      "source": [
        "ntask = 2\n",
        "test_corrects = 0\n",
        "for i, (inputs, labels) in enumerate(fmnist_loaders['val']):\n",
        "  inputs = inputs.cuda()\n",
        "  labels = labels.cuda()\n",
        "  preds, tasks, _ =  mymodel.predict(inputs)\n",
        "  test_corrects += torch.sum((preds == labels.data))\n",
        "fin_acc = test_corrects.double() / len(fmnist_loaders['val'].dataset)\n",
        "print('Loss: -- Acc: {:.4f}'.format(fin_acc))"
      ],
      "execution_count": 0,
      "outputs": [
        {
          "output_type": "stream",
          "text": [
            "Loss: -- Acc: 0.1876\n"
          ],
          "name": "stdout"
        }
      ]
    },
    {
      "cell_type": "code",
      "metadata": {
        "id": "LcyFkEIS_WXR",
        "colab_type": "code",
        "outputId": "91722a7c-fded-400e-ed2b-4379bea62f86",
        "colab": {
          "base_uri": "https://localhost:8080/",
          "height": 34
        }
      },
      "source": [
        "ntask = 0\n",
        "test_corrects = 0\n",
        "for i, (inputs, labels) in enumerate(svhn_loaders['val']):\n",
        "  inputs = inputs.cuda()\n",
        "  labels = labels.cuda()\n",
        "  preds, tasks, _ =  mymodel.predict(inputs)\n",
        "  test_corrects += torch.sum((preds == labels.data))\n",
        "fin_acc = test_corrects.double() / len(svhn_loaders['val'].dataset)\n",
        "print('Loss: -- Acc: {:.4f}'.format(fin_acc))"
      ],
      "execution_count": 0,
      "outputs": [
        {
          "output_type": "stream",
          "text": [
            "Loss: -- Acc: 0.2468\n"
          ],
          "name": "stdout"
        }
      ]
    },
    {
      "cell_type": "code",
      "metadata": {
        "id": "drFaAWZ6_UDo",
        "colab_type": "code",
        "outputId": "ed5f7844-aa4e-4b73-f7a6-e0acfb8336f6",
        "colab": {
          "base_uri": "https://localhost:8080/",
          "height": 34
        }
      },
      "source": [
        "ntask = 1\n",
        "test_corrects = 0\n",
        "for i, (inputs, labels) in enumerate(mnist_loaders['val']):\n",
        "  inputs = inputs.cuda()\n",
        "  labels = labels.cuda()\n",
        "  preds, tasks, _ =  mymodel.predict(inputs)\n",
        "  test_corrects += torch.sum((preds == labels.data))\n",
        "fin_acc = test_corrects.double() / len(mnist_loaders['val'].dataset)\n",
        "print('Loss: -- Acc: {:.4f}'.format(fin_acc))"
      ],
      "execution_count": 0,
      "outputs": [
        {
          "output_type": "stream",
          "text": [
            "Loss: -- Acc: 0.4687\n"
          ],
          "name": "stdout"
        }
      ]
    },
    {
      "cell_type": "code",
      "metadata": {
        "colab_type": "code",
        "id": "vmbdttdWZqAc",
        "outputId": "0725dd49-300e-437f-da8e-19556ddbd13e",
        "colab": {
          "base_uri": "https://localhost:8080/",
          "height": 34
        }
      },
      "source": [
        "ntask = 0\n",
        "test_corrects = 0\n",
        "for i, (inputs, labels) in enumerate(cifar_loaders['val']):\n",
        "  inputs = inputs.cuda()\n",
        "  labels = labels.cuda()\n",
        "  preds, tasks, _ =  mymodel.predict(inputs)\n",
        "  test_corrects += torch.sum((preds == labels.data))\n",
        "fin_acc = test_corrects.double() / len(cifar_loaders['val'].dataset)\n",
        "print('Loss: -- Acc: {:.4f}'.format(fin_acc))"
      ],
      "execution_count": 0,
      "outputs": [
        {
          "output_type": "stream",
          "text": [
            "Loss: -- Acc: 0.5751\n"
          ],
          "name": "stdout"
        }
      ]
    },
    {
      "cell_type": "code",
      "metadata": {
        "id": "YsfUEVyp_XS0",
        "colab_type": "code",
        "colab": {}
      },
      "source": [
        "# visualize_model(mymodel, dataloader, num_images=6)"
      ],
      "execution_count": 0,
      "outputs": []
    },
    {
      "cell_type": "code",
      "metadata": {
        "id": "H3o3-nKbzn93",
        "colab_type": "code",
        "colab": {}
      },
      "source": [
        ""
      ],
      "execution_count": 0,
      "outputs": []
    }
  ]
}